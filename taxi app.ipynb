{
 "cells": [
  {
   "cell_type": "code",
   "execution_count": null,
   "metadata": {},
   "outputs": [],
   "source": [
    "class taxiClass:\n",
    "    \n",
    "\n",
    "    def taxi():\n",
    "        total = 0\n",
    "        cost = 20\n",
    "        ride = \"y\"\n",
    "\n",
    "        while ride.lower() == 'y':\n",
    "            try:\n",
    "                fare = int(input('Enter fare: '))\n",
    "                if fare >= cost:\n",
    "                    change = fare - cost\n",
    "                    total += cost\n",
    "                    print(\"your change: \" + str(change))\n",
    "                    print(\"your total: \" + str(total))\n",
    "                else: \n",
    "                    print(\"Fare not enough\")\n",
    "                ride = input('To continue type y: ')\n",
    "                if ride.lower() != 'y':\n",
    "                    print(\"your total: \" + str(total)) \n",
    "                    #break\n",
    "            except:\n",
    "                print('enter numbers only')\n",
    "                \n",
    "        \n",
    "    def anotherFunc(get):\n",
    "        print(get)\n",
    "     "
   ]
  },
  {
   "cell_type": "code",
   "execution_count": null,
   "metadata": {},
   "outputs": [
    {
     "name": "stdout",
     "output_type": "stream",
     "text": [
      "Enter fare: 20.50\n",
      "enter numbers only\n"
     ]
    }
   ],
   "source": [
    "trip = taxiClass\n",
    "trip.taxi()\n",
    "#trip.anotherFunc('my name')\n"
   ]
  },
  {
   "cell_type": "code",
   "execution_count": null,
   "metadata": {},
   "outputs": [],
   "source": []
  },
  {
   "cell_type": "code",
   "execution_count": null,
   "metadata": {},
   "outputs": [],
   "source": []
  }
 ],
 "metadata": {
  "kernelspec": {
   "display_name": "Python 3",
   "language": "python",
   "name": "python3"
  }
 },
 "nbformat": 4,
 "nbformat_minor": 2
}
